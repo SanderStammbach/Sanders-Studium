{
 "cells": [
  {
   "cell_type": "code",
   "execution_count": 31,
   "metadata": {},
   "outputs": [
    {
     "name": "stdout",
     "output_type": "stream",
     "text": [
      "import erfolgreich \n"
     ]
    }
   ],
   "source": [
    "\n",
    "from qutip import basis, sigmax, sigmaz\n",
    "from qutip.solver.heom import DrudeLorentzBath\n",
    "from qutip.solver.heom import HEOMSolver\n",
    "from qutip.solver.heom import DrudeLorentzPadeBath\n",
    "from qutip import *\n",
    "import matplotlib.pyplot as plt \n",
    "import numpy as np \n",
    "\n",
    "print(\"import erfolgreich \")\n",
    "\n",
    "# More flexibel solver for custom bath\n",
    "from qutip.solver.heom import HSolverDL\n",
    "from qutip.solver.heom import BosonicBath"
   ]
  },
  {
   "cell_type": "code",
   "execution_count": 32,
   "metadata": {},
   "outputs": [
    {
     "name": "stdout",
     "output_type": "stream",
     "text": [
      "Quantum object: dims=[[2], [2]], shape=(2, 2), type='oper', dtype=Dia, isherm=False\n",
      "Qobj data =\n",
      "[[0. 1.]\n",
      " [0. 0.]]\n"
     ]
    }
   ],
   "source": [
    "# The system Hamiltonian:\n",
    "nph=30\n",
    "#ad=qutip.tensor(qutip.identity(1),qutip.destroy(2))\n",
    "#a=qutip.tensor(qutip.identity(1),qutip.create(2))\n",
    "ad=qutip.destroy(2)\n",
    "a=qutip.create(2)\n",
    "b=qutip.tensor(qutip.identity(3),qutip.destroy(nph))\n",
    "bd=qutip.tensor(qutip.identity(3),qutip.create(nph))\n",
    "w = 2\n",
    "eps = 0.5  # energy of the 2-level system\n",
    "Del = 1.0  # tunnelling term\n",
    "H_sys = 0.5 * eps * sigmaz() + 0.5 * Del * sigmax()\n",
    "H_sys = w*ad*a #<--------------------------------------------\n",
    "# Initial state of the system:\n",
    "rho0 = basis(2,0) * basis(2,0).dag()\n",
    "rho0=ad+a#<------------------------------------\n",
    "print(ad)"
   ]
  },
  {
   "cell_type": "code",
   "execution_count": 33,
   "metadata": {},
   "outputs": [],
   "source": [
    "gamma = 0.5  # cut off frequency\n",
    "g = 1  # coupling strength\n",
    "T = 0.5  # temperature\n",
    "\n",
    "# System-bath coupling operator:\n",
    "Q = sigmaz()\n",
    "\n",
    "Q =ad+a#<---------------------------"
   ]
  },
  {
   "cell_type": "code",
   "execution_count": 34,
   "metadata": {},
   "outputs": [
    {
     "name": "stdout",
     "output_type": "stream",
     "text": [
      "<qutip.solver.heom.bofin_baths.DrudeLorentzBath object at 0x73a8f6da5e50>\n",
      "<qutip.solver.heom.bofin_baths.DrudeLorentzPadeBath object at 0x73a8f6e78790>\n"
     ]
    }
   ],
   "source": [
    "\n",
    "# Number of expansion terms to retain:\n",
    "Nk = 2\n",
    "x=1\n",
    "# Matsubara expansion:\n",
    "bath = DrudeLorentzBath(Q, g, np.exp(x), T, Nk)\n",
    "print(bath)\n",
    "# Padé expansio\n",
    "bath = DrudeLorentzPadeBath(Q, g, gamma, T, Nk)\n",
    "\n",
    "\n",
    "print(bath)"
   ]
  },
  {
   "cell_type": "code",
   "execution_count": 35,
   "metadata": {},
   "outputs": [
    {
     "name": "stdout",
     "output_type": "stream",
     "text": [
      "50.0%. Run time:   0.01s. Est. time left: 00:00:00:00\n",
      "100.0%. Run time:   0.01s. Est. time left: 00:00:00:00\n",
      "Total run time:   0.01s\n",
      "Quantum object: dims=[[2], [2]], shape=(2, 2), type='oper', dtype=Dia, isherm=True\n",
      "Qobj data =\n",
      "[[1. 0.]\n",
      " [0. 0.]] und Quantum object: dims=[[2], [2]], shape=(2, 2), type='oper', dtype=Dia, isherm=True\n",
      "Qobj data =\n",
      "[[1. 0.]\n",
      " [0. 0.]]\n",
      "10.0%. Run time:   0.00s. Est. time left: 00:00:00:00\n",
      "20.0%. Run time:   0.00s. Est. time left: 00:00:00:00\n",
      "30.0%. Run time:   0.01s. Est. time left: 00:00:00:00\n",
      "40.0%. Run time:   0.01s. Est. time left: 00:00:00:00\n",
      "50.0%. Run time:   0.01s. Est. time left: 00:00:00:00\n",
      "60.0%. Run time:   0.01s. Est. time left: 00:00:00:00\n",
      "70.0%. Run time:   0.01s. Est. time left: 00:00:00:00\n",
      "80.0%. Run time:   0.02s. Est. time left: 00:00:00:00\n",
      "90.0%. Run time:   0.02s. Est. time left: 00:00:00:00\n",
      "100.0%. Run time:   0.02s. Est. time left: 00:00:00:00\n",
      "Total run time:   0.02s\n"
     ]
    },
    {
     "data": {
      "text/plain": [
       "<matplotlib.legend.Legend at 0x73a8f6db5150>"
      ]
     },
     "execution_count": 35,
     "metadata": {},
     "output_type": "execute_result"
    },
    {
     "data": {
      "image/png": "[encoded data removed]",
      "text/plain": [
       "<Figure size 800x800 with 1 Axes>"
      ]
     },
     "metadata": {},
     "output_type": "display_data"
    }
   ],
   "source": [
    "\n",
    "max_depth = 5  # maximum hierarchy depth to retain\n",
    "options = {\"nsteps\": 15_000}\n",
    "\n",
    "solver = HEOMSolver(H_sys, bath, max_depth=max_depth, options=options)\n",
    "\n",
    "#Gibt einen  ausdruck der zeit an. \n",
    "\n",
    "tlist = [0, 10, 20]  # times to evaluate the system state at\n",
    "result = solver.run(rho0, tlist)\n",
    "\n",
    "\n",
    "\n",
    "\n",
    "\n",
    "\n",
    "# Define the operators that measure the populations of the two\n",
    "# system states:\n",
    "P11p = basis(2,0) * basis(2,0).dag()\n",
    "P22p = basis(2,1) * basis(2,1).dag()\n",
    "\n",
    "# Define the operator that measures the 0, 1 element of density matrix\n",
    "# (corresonding to coherence):\n",
    "P12p = basis(2,0) * basis(2,1).dag()\n",
    "P12p = ad*a\n",
    "\n",
    "# Define the operators that measure the populations of the two\n",
    "# system states:\n",
    "P11p = basis(2,0) * basis(2,0).dag()\n",
    "P22p = basis(2,1) * basis(2,1).dag()\n",
    "print(P12p, \"und\", ad*a)\n",
    "# Define the operator that measures the 0, 1 element of density matrix\n",
    "# (corresonding to coherence):\n",
    "P12p = basis(2,0) * basis(2,1).dag()\n",
    "\n",
    "# Run the solver:\n",
    "tlist = np.linspace(0, 20, 101)\n",
    "result = solver.run(rho0, tlist, e_ops={\"11\": P11p, \"22\": P22p, \"12\": P12p})\n",
    "\n",
    "# Plot the results:\n",
    "fig, axes = plt.subplots(1, 1, sharex=True, figsize=(8,8))\n",
    "axes.plot(result.times, result.e_data[\"11\"], 'b', linewidth=2,)# label=\"Ground\")\n",
    "axes.plot(result.times, result.e_data[\"12\"], 'r', linewidth=2, label=\"N\")\n",
    "axes.set_xlabel(r't', fontsize=28)\n",
    "axes.legend(loc=0, fontsize=12)"
   ]
  }
 ],
 "metadata": {
  "kernelspec": {
   "display_name": "base",
   "language": "python",
   "name": "python3"
  },
  "language_info": {
   "codemirror_mode": {
    "name": "ipython",
    "version": 3
   },
   "file_extension": ".py",
   "mimetype": "text/x-python",
   "name": "python",
   "nbconvert_exporter": "python",
   "pygments_lexer": "ipython3",
   "version": "3.11.5"
  }
 },
 "nbformat": 4,
 "nbformat_minor": 2
}
