{
 "cells": [
  {
   "cell_type": "code",
   "execution_count": 500,
   "id": "e110afb5",
   "metadata": {},
   "outputs": [],
   "source": [
    "from qutip import basis, sigmax, sigmaz, sigmay, Options \n",
    "from qutip.solver.heom import DrudeLorentzBath\n",
    "from qutip.solver.heom import HEOMSolver\n",
    "from qutip.solver.heom import DrudeLorentzPadeBath\n",
    "from qutip.solver.heom import BathExponent\n",
    "import math\n",
    "__all__ = ['parallel_map', 'serial_map', 'loky_pmap', 'mpi_pmap']\n",
    "\n",
    "import multiprocessing\n",
    "import os\n",
    "import sys\n",
    "import time\n",
    "import threading\n",
    "import concurrent.futures\n",
    "import warnings\n",
    "from qutip.ui.progressbar import progress_bars\n",
    "from qutip.settings import available_cpu_count\n",
    "from scipy.fft import fft, ifft \n",
    "from scipy.special import shichi\n",
    "from mpmath import meijerg\n",
    "import scipy\n",
    "import matplotlib.pyplot as plt\n",
    "import qutip\n",
    "from qutip import ptrace \n",
    "import numpy as np \n",
    "import time \n",
    "\n",
    "\n",
    "\n",
    "\n",
    "# More flexibel solver for custom bath\n",
    "from qutip.solver.heom import HSolverDL\n",
    "from qutip.solver.heom import BosonicBath\n",
    "\n",
    "import qutip.solver.brmesolve as brmesolve "
   ]
  },
  {
   "cell_type": "code",
   "execution_count": 501,
   "id": "ff0f65b0",
   "metadata": {},
   "outputs": [
    {
     "data": {
      "text/plain": [
       "'we=1 # With hbar = 1 this is the upper energy\\nwg=0# ground state\\nve=1 #  ground state frequencie from the exited atomic state in 0.1*we \\nw=v=vg=ve# ground state frequencie from the ground atomic state \\nReg=1\\nμ=1\\nλ1=-Reg*(ve**2)*μ /(np.sqrt(2*μ *vg**3 ))# dim less coupling constant depending on the shift of the energy minima shifts in space\\ng=1.0 #couplig cavity to sysem \\n\\ntlist = np.linspace(0,60, 500) # 40 times atomic frequencie 4 times vibronic\\n#### ground parameters\\nλ2=(vg**2-ve**2)/(4*vg**2) # dim less coupling constant depending on the vibronic freq \\nw0=we- wg + λ1**2 *vg**3 /ve**2\\nw00 = we - wg + (ve - vg )/2\\nw_cav =(w0+Reg**2*μ*ve**2)\\nprint(λ1)\\nbeta_h=0.01#temp Einheit von  hb*omega durch kb\\nbeta_c=25\\nA=-λ1/(1+4*λ2)\\n#A=-λ1*(vg**2/ve**2)\\n\\n#rs=2*(2*np.pi*1J+np.log(1+4*λ2)**0.25)\\nrs=1/4*(np.log(ve**2/vg**2))\\n\\ndef nb(w,beta):\\n    return np.float128(1/(np.exp((w) * beta)-1))\\nN=14# size of the vibronic hilbi space \\nN_Test_Level=2\\n#tlist=np.linspace[0,1,10]\\n# operators\\nb  = qutip.tensor(qutip.qeye(2),qutip.destroy(N),qutip.qeye(N_Test_Level)) #ladder operator of the vibronic modes \\na  = qutip.tensor(qutip.qeye(2),qutip.qeye(N),basis(2,0)*basis(2,1).dag()) #ladder operator of the photonic modes \\nad  = qutip.tensor(qutip.qeye(2),qutip.qeye(N),basis(2,1)*basis(2,0).dag())\\nP12 = qutip.tensor(basis(2,0)*basis(2,1).dag(),qutip.qeye(N),qutip.qeye(N_Test_Level))\\nP21 = qutip.tensor(basis(2,1)*basis(2,0).dag(),qutip.qeye(N),qutip.qeye(N_Test_Level))\\nP11 = qutip.tensor(basis(2,0)*basis(2,0).dag(),qutip.qeye(N),qutip.qeye(N_Test_Level))\\nP22 = qutip.tensor(basis(2,1)*basis(2,1).dag(),qutip.qeye(N),qutip.qeye(N_Test_Level))\\n#psi0 = qutip.tensor(basis(2,1),basis(N,0))   #|e,0>\\nrho0=qutip.tensor(basis(2,1)*basis(2,1).dag(),basis(N,3)*basis(N,3).dag(),basis(N_Test_Level,1)*basis(N_Test_Level,1).dag()) #|e,0><e,0|\\nH_cav=(w_cav)*ad*a +g*(P21*a+P12*ad)\\n#System hamiltonian\\nH= vg*b.dag()*b +w0*P21*P12 + λ1*vg*(b+b.dag())*P21*P12 +H_cav  \\nD_op=(A*(b.dag()-b)).expm()\\n#S_op=(1/2*rs*(b*b-b.dag()*b.dag())).expm() #seldmade\\nU = P12*P21 +(D_op *P21*P12)\\n\\n#S_op = qutip.tensor(qutip.qeye(2),  S_op)\\n\\nH_diag=(w0-λ1**2*vg)*(P21*P12) + vg*(b.dag()*b+0.5) + g*(P21*D_op.dag()*a + P12*D_op*ad) + w_cav*ad*a \\n\\nP12r=U.dag()*P12*U\\nP21r=U.dag()*P21*U\\nc=b+A*P21*P12\\n#def SS(H):\\n #   return (-H*beta_h).expm()/((-H*beta_h).expm().tr())'"
      ]
     },
     "execution_count": 501,
     "metadata": {},
     "output_type": "execute_result"
    }
   ],
   "source": [
    "\"\"\"we=1 # With hbar = 1 this is the upper energy\n",
    "wg=0# ground state\n",
    "ve=1 #  ground state frequencie from the exited atomic state in 0.1*we \n",
    "w=v=vg=ve# ground state frequencie from the ground atomic state \n",
    "Reg=1\n",
    "μ=1\n",
    "λ1=-Reg*(ve**2)*μ /(np.sqrt(2*μ *vg**3 ))# dim less coupling constant depending on the shift of the energy minima shifts in space\n",
    "g=1.0 #couplig cavity to sysem \n",
    "\n",
    "tlist = np.linspace(0,60, 500) # 40 times atomic frequencie 4 times vibronic\n",
    "#### ground parameters\n",
    "λ2=(vg**2-ve**2)/(4*vg**2) # dim less coupling constant depending on the vibronic freq \n",
    "w0=we- wg + λ1**2 *vg**3 /ve**2\n",
    "w00 = we - wg + (ve - vg )/2\n",
    "w_cav =(w0+Reg**2*μ*ve**2)\n",
    "print(λ1)\n",
    "beta_h=0.01#temp Einheit von  hb*omega durch kb\n",
    "beta_c=25\n",
    "A=-λ1/(1+4*λ2)\n",
    "#A=-λ1*(vg**2/ve**2)\n",
    "\n",
    "#rs=2*(2*np.pi*1J+np.log(1+4*λ2)**0.25)\n",
    "rs=1/4*(np.log(ve**2/vg**2))\n",
    "\n",
    "def nb(w,beta):\n",
    "    return np.float128(1/(np.exp((w) * beta)-1))\n",
    "N=14# size of the vibronic hilbi space \n",
    "N_Test_Level=2\n",
    "#tlist=np.linspace[0,1,10]\n",
    "# operators\n",
    "b  = qutip.tensor(qutip.qeye(2),qutip.destroy(N),qutip.qeye(N_Test_Level)) #ladder operator of the vibronic modes \n",
    "a  = qutip.tensor(qutip.qeye(2),qutip.qeye(N),basis(2,0)*basis(2,1).dag()) #ladder operator of the photonic modes \n",
    "ad  = qutip.tensor(qutip.qeye(2),qutip.qeye(N),basis(2,1)*basis(2,0).dag())\n",
    "P12 = qutip.tensor(basis(2,0)*basis(2,1).dag(),qutip.qeye(N),qutip.qeye(N_Test_Level))\n",
    "P21 = qutip.tensor(basis(2,1)*basis(2,0).dag(),qutip.qeye(N),qutip.qeye(N_Test_Level))\n",
    "P11 = qutip.tensor(basis(2,0)*basis(2,0).dag(),qutip.qeye(N),qutip.qeye(N_Test_Level))\n",
    "P22 = qutip.tensor(basis(2,1)*basis(2,1).dag(),qutip.qeye(N),qutip.qeye(N_Test_Level))\n",
    "#psi0 = qutip.tensor(basis(2,1),basis(N,0))   #|e,0>\n",
    "rho0=qutip.tensor(basis(2,1)*basis(2,1).dag(),basis(N,3)*basis(N,3).dag(),basis(N_Test_Level,1)*basis(N_Test_Level,1).dag()) #|e,0><e,0|\n",
    "H_cav=(w_cav)*ad*a +g*(P21*a+P12*ad)\n",
    "#System hamiltonian\n",
    "H= vg*b.dag()*b +w0*P21*P12 + λ1*vg*(b+b.dag())*P21*P12 +H_cav  \n",
    "D_op=(A*(b.dag()-b)).expm()\n",
    "#S_op=(1/2*rs*(b*b-b.dag()*b.dag())).expm() #seldmade\n",
    "U = P12*P21 +(D_op *P21*P12)\n",
    "\n",
    "#S_op = qutip.tensor(qutip.qeye(2),  S_op)\n",
    "\n",
    "H_diag=(w0-λ1**2*vg)*(P21*P12) + vg*(b.dag()*b+0.5) + g*(P21*D_op.dag()*a + P12*D_op*ad) + w_cav*ad*a \n",
    "\n",
    "P12r=U.dag()*P12*U\n",
    "P21r=U.dag()*P21*U\n",
    "c=b+A*P21*P12\n",
    "#def SS(H):\n",
    " #   return (-H*beta_h).expm()/((-H*beta_h).expm().tr())\"\"\""
   ]
  },
  {
   "cell_type": "code",
   "execution_count": 502,
   "id": "f654716d",
   "metadata": {},
   "outputs": [
    {
     "name": "stdout",
     "output_type": "stream",
     "text": [
      "1\n"
     ]
    }
   ],
   "source": [
    "we=1 # With hbar = 1 this is the upper energy\n",
    "wg=0# ground state\n",
    "ve=0.5 #  ground state frequencie from the exited atomic state in 0.1*we \n",
    "w=v=vg=ve# ground state frequencie from the ground atomic state \n",
    "Reg=1\n",
    "μ=1\n",
    "λ1=1# dim less coupling constant depending on the shift of the energy minima shifts in space\n",
    "g=1.0 #couplig cavity to sysem \n",
    "A=-λ1/(1)\n",
    "tlist = np.linspace(0,160, 120) # 40 times atomic frequencie 4 times vibronic\n",
    "#### ground parameters\n",
    "#λ2=(vg**2-ve**2)/(4*vg**2) # dim less coupling constant depending on the vibronic freq \n",
    "w0=we- wg + λ1**2 *vg**3 /ve**2\n",
    "w0d=w0 + A**2*vg*(1 ) + 2*λ1*vg*A\n",
    "w00 = we - wg + (ve - vg )/2\n",
    "w_cav =(w0+2*λ1**2*v)\n",
    "wd_cav =(w0d+np.sqrt(2)*λ1**2*v)\n",
    "print(λ1)\n",
    "beta_h=0.05#temp Einheit von  hb*omega durch kb\n",
    "beta_c=25\n",
    "\n",
    "#A=-λ1*(vg**2/ve**2)\n",
    "\n",
    "#rs=2*(2*np.pi*1J+np.log(1+4*λ2)**0.25)\n",
    "rs=1/4*(np.log(ve**2/vg**2))\n",
    "\n",
    "def nb(w,beta):\n",
    "    return np.float128(1/(np.exp((w) * beta)-1))\n",
    "N=14# size of the vibronic hilbi space \n",
    "N_Test_Level=2\n",
    "#tlist=np.linspace[0,1,10]\n",
    "# operators\n",
    "b  = qutip.tensor(qutip.qeye(2),qutip.destroy(N),qutip.qeye(N_Test_Level)) #ladder operator of the vibronic modes \n",
    "a  = qutip.tensor(qutip.qeye(2),qutip.qeye(N),basis(2,0)*basis(2,1).dag()) #ladder operator of the photonic modes \n",
    "ad  = qutip.tensor(qutip.qeye(2),qutip.qeye(N),basis(2,1)*basis(2,0).dag())\n",
    "P12 = qutip.tensor(basis(2,0)*basis(2,1).dag(),qutip.qeye(N),qutip.qeye(N_Test_Level))\n",
    "P21 = qutip.tensor(basis(2,1)*basis(2,0).dag(),qutip.qeye(N),qutip.qeye(N_Test_Level))\n",
    "P11 = qutip.tensor(basis(2,0)*basis(2,0).dag(),qutip.qeye(N),qutip.qeye(N_Test_Level))\n",
    "P22 = qutip.tensor(basis(2,1)*basis(2,1).dag(),qutip.qeye(N),qutip.qeye(N_Test_Level))\n",
    "#psi0 = qutip.tensor(basis(2,1),basis(N,0))   #|e,0>\n",
    "rho0=qutip.tensor(basis(2,1)*basis(2,1).dag(),basis(N,2)*basis(N,2).dag(),basis(N_Test_Level,1)*basis(N_Test_Level,1).dag()) #|e,0><e,0|\n",
    "H_cav=(w_cav)*ad*a +g*(P21*a+P12*ad)\n",
    "#System hamiltonian\n",
    "def F_coeff(tlist):\n",
    "   return  np.exp(-1*(tlist *w_cav)**2 )\n",
    "F=a+a.dag()\n",
    "H= vg*b.dag()*b +w0*P21*P12 + λ1*vg*(b+b.dag()+0.5)*P21*P12 +H_cav  \n",
    "H = [H,[F,F_coeff]]\n",
    "D_op=(A*(b.dag()-b)).expm()\n",
    "#S_op=(1/2*rs*(b*b-b.dag()*b.dag())).expm() #seldmade\n",
    "U = P12*P21 +(D_op *P21*P12)\n",
    "\n",
    "#S_op = qutip.tensor(qutip.qeye(2),  S_op)\n",
    "\n",
    "H_diag=(w0-λ1**2*vg)*(P21*P12) + vg*(b.dag()*b) + g*(P21*D_op.dag()*a + P12*D_op*ad) + wd_cav*ad*a \n",
    "H_diag=(w0 + A**2*vg*(1 ) + 2*λ1*vg*A)*(P21*P12) + vg*(b.dag()*b+0.5) + g*(P21*D_op.dag()*a + P12*D_op*ad) + wd_cav*ad*a \n",
    "P12r=U.dag()*P12*U\n",
    "P21r=U.dag()*P21*U\n",
    "c=b+A*P21*P12\n",
    "#def SS(H):\n",
    " #   return (-H*beta_h).expm()/((-H*beta_h).expm().tr())\"\"\""
   ]
  },
  {
   "cell_type": "code",
   "execution_count": 503,
   "id": "23ff03d5",
   "metadata": {},
   "outputs": [
    {
     "data": {
      "text/plain": [
       "'\\nfor i, _ in enumerate(exited):\\n    wups = 5 * i / (len(exited) - 1)\\n    rho_ss = steady(wups)\\n\\n    # 👉 Übergangserwartungswert oder Populationsmessung\\n    result = qutip.expect(P21 * P12, rho_ss)\\n\\n    exited[i] = result\\n\\nprint(exited)\\nAtomic=rho_ss.ptrace(0)\\nprint(Atomic*qutip.sigmap()*qutip.sigmam())\\n#print((rho_ss*ad*a).ptrace(2))\\n'"
      ]
     },
     "execution_count": 503,
     "metadata": {},
     "output_type": "execute_result"
    }
   ],
   "source": [
    "gamma_1=0.1\n",
    "gamma_2=0.1\n",
    "def steady(wups):\n",
    "    \n",
    "    c_op_list=[]\n",
    "\n",
    "    c_op_list.append(np.sqrt((nb(w0,beta_h)+1)*gamma_1)*P12)\n",
    "    c_op_list.append(np.sqrt((nb(w0,beta_h))*gamma_1)*P21)\n",
    "    c_op_list.append(np.sqrt((nb(w,beta_c)+1)*gamma_2)*b*P12*P21)\n",
    "    c_op_list.append(np.sqrt((nb(w,beta_c))*gamma_2)*b.dag()*P12*P21)\n",
    "    c_op_list.append(np.sqrt((nb(w,beta_c)+1)*gamma_2)*b*P21*P12)\n",
    "    c_op_list.append(np.sqrt((nb(w,beta_c))*gamma_2)*b.dag()*P21*P12)\n",
    "    \n",
    "    #H_cav=(wups)*(ad*a) +g*(P21*a+P12*ad)\n",
    "#System hamiltonian\n",
    "    #H= w*(b.dag()*b) +W*P21*P12 + x_0*w*1/np.sqrt(2)*(b+b.dag())*P21*P12 +H_cav  \n",
    "    \n",
    "    H_cav=(w_cav)*ad*a +g*(P21*a+P12*ad)\n",
    "#System hamiltonian\n",
    "    H= vg*b.dag()*b +w0*P21*P12 + λ1*vg*(b+b.dag())*P21*P12 +H_cav  \n",
    "    rho_ss=qutip.steadystate(H, c_op_list)\n",
    "    return rho_ss\n",
    "exited = [None] * 50\n",
    "\"\"\"\n",
    "for i, _ in enumerate(exited):\n",
    "    wups = 5 * i / (len(exited) - 1)\n",
    "    rho_ss = steady(wups)\n",
    "\n",
    "    # 👉 Übergangserwartungswert oder Populationsmessung\n",
    "    result = qutip.expect(P21 * P12, rho_ss)\n",
    "\n",
    "    exited[i] = result\n",
    "\n",
    "print(exited)\n",
    "Atomic=rho_ss.ptrace(0)\n",
    "print(Atomic*qutip.sigmap()*qutip.sigmam())\n",
    "#print((rho_ss*ad*a).ptrace(2))\n",
    "\"\"\""
   ]
  },
  {
   "cell_type": "code",
   "execution_count": 504,
   "id": "3ff5dfb7",
   "metadata": {},
   "outputs": [
    {
     "data": {
      "text/plain": [
       "'\\ndef steady_diag(wups):\\n    \\n    c_op_list=[]\\n\\n    c_op_list.append(np.sqrt((nb(w0,beta_h)+1)*gamma_1)*P12r)\\n    c_op_list.append(np.sqrt((nb(w0,beta_h))*gamma_1)*P21r)\\n    c_op_list.append(np.sqrt((nb(w,beta_c)+1)*gamma_2)*b*P12r*P21r)\\n    c_op_list.append(np.sqrt((nb(w,beta_c))*gamma_2)*b.dag()*P12r*P21r)\\n    c_op_list.append(np.sqrt((nb(w,beta_c)+1)*gamma_2)*b*P21r*P12r)\\n    c_op_list.append(np.sqrt((nb(w,beta_c))*gamma_2)*b.dag()*P21r*P12r)\\n    \\n    #H_cav=(wups)*(ad*a) +g*(P21*a+P12*ad)\\n#System hamiltonian\\n    #H= w*(b.dag()*b) +W*P21*P12 + x_0*w*1/np.sqrt(2)*(b+b.dag())*P21*P12 +H_cav  \\n    \\n    \\n    H_diag=(w0)*(P21*P12) + vg*(b.dag()*b) + g*(P21*D_op.dag()*a + P12r *a.dag()) + wups*ad*a  \\n    rho_ss=qutip.steadystate(H_diag, c_op_list)\\n    return rho_ss\\nexited = [None] * 50\\nwups_list=[]\\n\\nfor i, _ in enumerate(exited):\\n    wups = 6 *i / (len(exited) - 1) -3\\n    rho_ss = steady_diag(wups)\\n    wups_list.append(wups)\\n    # 👉 Übergangserwartungswert oder Populationsmessung\\n    result = qutip.expect(P21r * P12r, rho_ss)\\n    \\n    exited[i] = result\\nfig, ax = plt.subplots()\\nax.plot(wups_list, exited,color=\"green\")\\nprint(exited)\\nAtomic=rho_ss.ptrace(0)\\nprint(Atomic*qutip.sigmap()*qutip.sigmam())'"
      ]
     },
     "execution_count": 504,
     "metadata": {},
     "output_type": "execute_result"
    }
   ],
   "source": [
    "\"\"\"\n",
    "def steady_diag(wups):\n",
    "    \n",
    "    c_op_list=[]\n",
    "\n",
    "    c_op_list.append(np.sqrt((nb(w0,beta_h)+1)*gamma_1)*P12r)\n",
    "    c_op_list.append(np.sqrt((nb(w0,beta_h))*gamma_1)*P21r)\n",
    "    c_op_list.append(np.sqrt((nb(w,beta_c)+1)*gamma_2)*b*P12r*P21r)\n",
    "    c_op_list.append(np.sqrt((nb(w,beta_c))*gamma_2)*b.dag()*P12r*P21r)\n",
    "    c_op_list.append(np.sqrt((nb(w,beta_c)+1)*gamma_2)*b*P21r*P12r)\n",
    "    c_op_list.append(np.sqrt((nb(w,beta_c))*gamma_2)*b.dag()*P21r*P12r)\n",
    "    \n",
    "    #H_cav=(wups)*(ad*a) +g*(P21*a+P12*ad)\n",
    "#System hamiltonian\n",
    "    #H= w*(b.dag()*b) +W*P21*P12 + x_0*w*1/np.sqrt(2)*(b+b.dag())*P21*P12 +H_cav  \n",
    "    \n",
    "    \n",
    "    H_diag=(w0)*(P21*P12) + vg*(b.dag()*b) + g*(P21*D_op.dag()*a + P12r *a.dag()) + wups*ad*a  \n",
    "    rho_ss=qutip.steadystate(H_diag, c_op_list)\n",
    "    return rho_ss\n",
    "exited = [None] * 50\n",
    "wups_list=[]\n",
    "\n",
    "for i, _ in enumerate(exited):\n",
    "    wups = 6 *i / (len(exited) - 1) -3\n",
    "    rho_ss = steady_diag(wups)\n",
    "    wups_list.append(wups)\n",
    "    # 👉 Übergangserwartungswert oder Populationsmessung\n",
    "    result = qutip.expect(P21r * P12r, rho_ss)\n",
    "    \n",
    "    exited[i] = result\n",
    "fig, ax = plt.subplots()\n",
    "ax.plot(wups_list, exited,color=\"green\")\n",
    "print(exited)\n",
    "Atomic=rho_ss.ptrace(0)\n",
    "print(Atomic*qutip.sigmap()*qutip.sigmam())\"\"\""
   ]
  },
  {
   "cell_type": "code",
   "execution_count": null,
   "id": "ec87f67d",
   "metadata": {},
   "outputs": [],
   "source": [
    "c_op_list=[]\n",
    "\n",
    "c_op_list.append(np.sqrt((nb(w0,beta_h)+1)*gamma_1)*P12)\n",
    "c_op_list.append(np.sqrt((nb(w0,beta_h))*gamma_1)*P21)\n",
    "c_op_list.append(np.sqrt((nb(w,beta_c)+1)*gamma_2)*b*P12*P21)\n",
    "c_op_list.append(np.sqrt((nb(w,beta_c))*gamma_2)*b.dag()*P12*P21)\n",
    "c_op_list.append(np.sqrt((nb(w,beta_c)+1)*gamma_2)*b*P21*P12)\n",
    "c_op_list.append(np.sqrt((nb(w,beta_c))*gamma_2)*b.dag()*P21*P12)\n",
    "Resul_Lindblad=qutip.mesolve(H, rho0, tlist, [c_op_list], [P21*P12, P12*P21,P12,b.dag()*b*P21*P12,b.dag()*b*P12*P21,b.dag()*b*P21*P12+b.dag()*b*P12*P21,ad*a])\n",
    "fig, ax = plt.subplots()\n",
    "ax.plot(tlist, Resul_Lindblad.expect[0],color=\"green\")\n",
    "ax.plot(tlist, Resul_Lindblad.expect[1])\n",
    "ax.plot(tlist, Resul_Lindblad.expect[2],color=\"purple\")\n",
    "ax.plot(tlist, Resul_Lindblad.expect[3])\n",
    "ax.plot(tlist, Resul_Lindblad.expect[4])\n",
    "ax.plot(tlist, Resul_Lindblad.expect[5])\n",
    "ax.plot(tlist, Resul_Lindblad.expect[6],color=\"red\")\n",
    "#P1 = np.exp(-beta_h * w0 / 2) / (np.exp(-beta_h * w0 / 2) + np.exp(beta_h * w0 / 2))\n",
    "#ax.plot(tlist,np.exp(-gamma_1 *(2*nb(w00,beta_h)+1)*tlist)+P1*(1-np.exp(-gamma_1 *(2*nb(w00,beta_h))*tlist)),linestyle='dashdot') \n",
    "ax.set_xlabel('t x 1/w_eg')\n",
    "ax.set_ylabel('Expectation values')\n",
    "#ax.legend((\"Pe\", \"Pg\",\"P12\",\"N * P22 \",\"N * P11\",\"N*P22+N*P11\"))\n",
    "\n",
    "#ax.axhline(y=1/(np.exp(beta*vg)-1), xmin=0, xmax=40, color='b', linestyle='--')\n",
    "#ax.axhline(y=0.5, xmin=0, xmax=40, color='b', linestyle='--')\n",
    "plt.show()"
   ]
  },
  {
   "cell_type": "code",
   "execution_count": null,
   "id": "eb7f5fc0",
   "metadata": {},
   "outputs": [],
   "source": [
    "gamma_1_diag=0.1\n",
    "gamma_2_diag=0.1\n",
    "c_op_list_diag=[]\n",
    "\n",
    "c_op_list_diag.append(np.sqrt((nb(w0,beta_h)+1)*gamma_1_diag)*P12r)\n",
    "c_op_list_diag.append(np.sqrt((nb(w0,beta_h))*gamma_1_diag)*P21r)\n",
    "c_op_list_diag.append(np.sqrt((nb(w,beta_c)+1)*gamma_2_diag)*c*P12r*P21r)\n",
    "c_op_list_diag.append(np.sqrt((nb(w,beta_c))*gamma_2_diag)*c.dag()*P12r*P21r)\n",
    "c_op_list_diag.append(np.sqrt((nb(w,beta_c)+1)*gamma_2_diag)*c*P21r*P12r)\n",
    "c_op_list_diag.append(np.sqrt((nb(w,beta_c))*gamma_2_diag)*c.dag()*P21r*P12r)\n",
    "Lk_min = qutip.spre(c) * qutip.spost(P12r.dag()) - 0.5 * qutip.spre(P12r.dag() * c) - 0.5 * qutip.spost(P12r.dag() * c)\n",
    "Lk_min2 = qutip.spre(c.dag()) * qutip.spost(P12r) - 0.5 * qutip.spre(P12r * c.dag()) - 0.5 * qutip.spost(P12r * c.dag())\n",
    "Lk_plu = qutip.spre(P12r.dag()) * qutip.spost(c) - 0.5 * qutip.spre(c*P12r.dag() ) - 0.5 * qutip.spost(c*P12r )\n",
    "\n",
    "\n",
    "\n"
   ]
  },
  {
   "cell_type": "code",
   "execution_count": null,
   "id": "f766235e",
   "metadata": {},
   "outputs": [
    {
     "data": {
      "text/plain": [
       "<matplotlib.lines.Line2D at 0x7fecb8d3d690>"
      ]
     },
     "execution_count": 499,
     "metadata": {},
     "output_type": "execute_result"
    },
    {
     "data": {
      "image/png": "[encoded data removed]",
      "text/plain": [
       "<Figure size 640x480 with 1 Axes>"
      ]
     },
     "metadata": {},
     "output_type": "display_data"
    }
   ],
   "source": [
    "#,gamma_1*(nb(w0+vg,beta)+1)*(Lk_min)+gamma_1*(nb(w0+vg,beta))*(Lk_min.dag())\n",
    "beta=1\n",
    "Resul_Lindblad_diag=qutip.mesolve(H_diag, U.dag()*rho0*U, tlist, [c_op_list_diag], [P21r*P12r, P12r*P21r,P12r,c.dag()*c*P21r*P12r,U.dag()*b.dag()*b*U*P12r*P21r,U.dag()*ad*a*U])\n",
    "#Resul_Lindblad_diag_cross=qutip.mesolve(H_diag, rho0, tlist, [c_op_list_diag,gamma_1*(nb(w0+vg,beta)+1)*(Lk_min+Lk_min2)+gamma_1*(nb(w0+vg,beta))*(Lk_min.dag()+Lk_min2.dag())+gamma_1*(nb(w0+vg,beta))*(Lk_plu+Lk_plu.dag())], [P21*P12, P12*P21,P12,b.dag()*b*P21*P12,b.dag()*b*P12*P21])\n",
    "#rho_ss=qutip.steadystate(H_diag, c_op_list_diag)\n",
    "fig, ax = plt.subplots()\n",
    "ax.plot(tlist, Resul_Lindblad_diag.expect[0])\n",
    "#ax.plot(tlist, Resul_Lindblad_diag.expect[2])\n",
    "#ax.plot(tlist, Resul_Lindblad_diag.expect[3])\n",
    "#ax.plot(tlist, Resul_Lindblad_diag.expect[4])\n",
    "ax.plot(tlist, Resul_Lindblad_diag.expect[5])\n",
    "ax.plot(tlist, Resul_Lindblad.expect[0],linestyle=\"--\")\n",
    "\"\"\"\n",
    "ax.plot(tlist, Resul_Lindblad.expect[2],linestyle=\"--\")\n",
    "ax.plot(tlist, Resul_Lindblad.expect[3],linestyle=\"--\")\n",
    "ax.plot(tlist, Resul_Lindblad.expect[4],linestyle=\"--\")\"\"\"\n",
    "ax.plot(tlist, Resul_Lindblad.expect[6],linestyle=\"--\")\n",
    "#ss=np.abs((c.dag()*c*P21r*P12r*rho_ss).tr())\n",
    "\n",
    "#ax.axhline(y=ss, xmin=0, xmax=40, color='b', linestyle='--')\n",
    "#ax.plot(tlist, Resul_Lindblad_diag_cross.expect[0],linestyle=\":\")\n",
    "ax.axhline(y=0.5, xmin=0, xmax=40, color='b', linestyle='-')"
   ]
  }
 ],
 "metadata": {
  "kernelspec": {
   "display_name": "base",
   "language": "python",
   "name": "python3"
  },
  "language_info": {
   "codemirror_mode": {
    "name": "ipython",
    "version": 3
   },
   "file_extension": ".py",
   "mimetype": "text/x-python",
   "name": "python",
   "nbconvert_exporter": "python",
   "pygments_lexer": "ipython3",
   "version": "3.11.5"
  }
 },
 "nbformat": 4,
 "nbformat_minor": 5
}
