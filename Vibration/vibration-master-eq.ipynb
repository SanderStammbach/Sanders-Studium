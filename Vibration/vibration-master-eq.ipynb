{
 "cells": [
  {
   "cell_type": "code",
   "execution_count": 5,
   "metadata": {},
   "outputs": [],
   "source": [
    "from qutip import basis, sigmax, sigmaz, sigmay, Options \n",
    "from qutip.solver.heom import DrudeLorentzBath\n",
    "from qutip.solver.heom import HEOMSolver\n",
    "from qutip.solver.heom import DrudeLorentzPadeBath\n",
    "from qutip.solver.heom import BathExponent\n",
    "import math\n",
    "__all__ = ['parallel_map', 'serial_map', 'loky_pmap', 'mpi_pmap']\n",
    "\n",
    "import multiprocessing\n",
    "import os\n",
    "import sys\n",
    "import time\n",
    "import threading\n",
    "import concurrent.futures\n",
    "import warnings\n",
    "from qutip.ui.progressbar import progress_bars\n",
    "from qutip.settings import available_cpu_count\n",
    "from scipy.fft import fft, ifft \n",
    "from scipy.special import shichi\n",
    "from mpmath import meijerg\n",
    "\n",
    "import matplotlib.pyplot as plt\n",
    "import qutip\n",
    "\n",
    "import numpy as np \n",
    "import time \n",
    "\n",
    "\n",
    "\n",
    "\n",
    "# More flexibel solver for custom bath\n",
    "from qutip.solver.heom import HSolverDL\n",
    "from qutip.solver.heom import BosonicBath\n",
    "\n",
    "import qutip.solver.brmesolve as brmesolve"
   ]
  },
  {
   "cell_type": "code",
   "execution_count": 6,
   "metadata": {},
   "outputs": [
    {
     "name": "stdout",
     "output_type": "stream",
     "text": [
      "Quantum object: dims=[[2, 2], [2, 2]], shape=(4, 4), type='oper', dtype=Dense, isherm=True\n",
      "Qobj data =\n",
      "[[0.        0.        0.        0.       ]\n",
      " [0.        0.1       0.        0.       ]\n",
      " [0.        0.        1.0019975 0.01     ]\n",
      " [0.        0.        0.01      1.1019975]] Quantum object: dims=[[2, 2], [2, 2]], shape=(4, 4), type='oper', dtype=Dense, isherm=True\n",
      "Qobj data =\n",
      "[[0.  0.  0.  0. ]\n",
      " [0.  0.1 0.  0. ]\n",
      " [0.  0.  1.  0. ]\n",
      " [0.  0.  0.  1.1]]\n",
      "4.470588506642831e-05\n",
      "4.5397868702434395e-05\n"
     ]
    }
   ],
   "source": [
    "\"\"\"Define Constants\"\"\"\n",
    "#hbar, kb=1\n",
    "we=1 # With hbar = 1 this is the upper energy\n",
    "wg=0# ground state\n",
    "ve=0.1 #  ground state frequencie from the exited atomic state in 0.1*we \n",
    "vg=0.1 # ground state frequencie from the ground atomic state \n",
    "λ1=0.1# dim less coupling constant depending on the shift of the energy minima shifts in space\n",
    "λ2=vg**2-ve**2/4*vg**2 # dim less coupling constant depending on the vibronic freq \n",
    "w0=we- wg + λ1**2 *vg**3 /ve**2\n",
    "w00 = we - wg + (ve - vg )/2\n",
    "g1=0.1 #couplig to the atom to the bath   \n",
    "g2=0.1 #couplig to the vibronic modes to the bath \n",
    "gamma_1=0.1\n",
    "gamma_2=0.1\n",
    "beta=10 #temp Einheit von  hb*omega durch kb\n",
    "#nb=1/(np.exp((w) * beta)-1)\n",
    "nb=1\n",
    "N=2# size of the vibronic hilbi space \n",
    "#tlist=np.linspace[0,1,10]\n",
    "# operators\n",
    "a  = qutip.tensor(qutip.qeye(2),qutip.destroy(N)) #ladder operator of the vibronic modes \n",
    "P12 = qutip.tensor(basis(2,0)*basis(2,1).dag(),qutip.qeye(N))\n",
    "P21 = qutip.tensor(basis(2,1)*basis(2,0).dag(),qutip.qeye(N))\n",
    "P22 = qutip.tensor(basis(2,0)*basis(2,0).dag(),qutip.qeye(N))\n",
    "P22 = qutip.tensor(basis(2,1)*basis(2,1).dag(),qutip.qeye(N))\n",
    "psi0 = qutip.tensor(basis(2,1),basis(N,0))   #|e,0>\n",
    "rho0=qutip.tensor(basis(2,1)*basis(2,1).dag(),basis(N,0)*basis(N,0).dag()) #|e,0><e,0|\n",
    "\n",
    "\n",
    "#System hamiltonian\n",
    "H= vg*a.dag()*a +w0*P21*P12 + λ1*vg*(a+a.dag())*P21*P12+λ2*vg*(a+a.dag())**2  *P21*P12                     \n",
    "H_diag=vg*P12*P21*a.dag()*a+ (vg*a.dag()*a+w00)*P21*P12\n",
    "# H_int \n",
    "O1=P12+P21\n",
    "O2=a+a.dag()\n",
    "\n",
    "evals , ekets = H.eigenstates()\n",
    "evals2 , ekets2 = H_diag.eigenstates()\n",
    "print(H,H_diag)\n",
    "#print(ekets,ekets2)\n",
    "state1=qutip.tensor( basis(2,1),qutip.basis(N,0))\n",
    "state2=qutip.tensor(basis(2,0),qutip.basis(N,1))\n",
    "#print(state1.dag()*H_diag*state2)\n",
    "def SS(H):\n",
    "    return (-H*beta).expm()/((-H*beta).expm().tr())\n",
    "print((SS(H)*P22).tr())\n",
    "print((SS(H_diag)*P22).tr())"
   ]
  },
  {
   "cell_type": "code",
   "execution_count": 10,
   "metadata": {},
   "outputs": [
    {
     "name": "stdout",
     "output_type": "stream",
     "text": [
      "Quantum object: dims=[[2, 2], [2, 2]], shape=(4, 4), type='oper', dtype=Dense, isherm=True\n",
      "Qobj data =\n",
      "[[0. 0. 0. 0.]\n",
      " [0. 0. 0. 0.]\n",
      " [0. 0. 0. 0.]\n",
      " [0. 0. 0. 0.]]\n"
     ]
    }
   ],
   "source": [
    "# decay \n",
    "print(a*P12*P21*P21*P12*a.dag())\n",
    "########################################################################################################\n",
    "gamma_1=0.1\n",
    "gamma_2=0.1\n",
    "c_op_list=[]\n",
    "\n",
    "c_op_list.append(np.sqrt((nb+1)*gamma_1)*P12)\n",
    "c_op_list.append(np.sqrt((nb)*gamma_1)*P21)\n",
    "c_op_list.append(np.sqrt((nb+1)*gamma_1)*a)\n",
    "c_op_list.append(np.sqrt((nb)*gamma_1)*a.dag())\n",
    "#Resul_Lindblad=qutip.mesolve(H, rho0, tlist, c_ops=c_op_list, P22, args={}, options=None, progress_bar=None, _safe_mode=True)"
   ]
  }
 ],
 "metadata": {
  "kernelspec": {
   "display_name": "base",
   "language": "python",
   "name": "python3"
  },
  "language_info": {
   "codemirror_mode": {
    "name": "ipython",
    "version": 3
   },
   "file_extension": ".py",
   "mimetype": "text/x-python",
   "name": "python",
   "nbconvert_exporter": "python",
   "pygments_lexer": "ipython3",
   "version": "3.11.5"
  }
 },
 "nbformat": 4,
 "nbformat_minor": 2
}
